{
 "cells": [
  {
   "cell_type": "markdown",
   "metadata": {},
   "source": [
    "## 아이시르 종 분류하기\n",
    "\n",
    "### 개요\n",
    "+ 아이리스(Iris. 붓꽃) 데이터 세트를 이용해 setosa, versicolor, viriginica 세 종을 분류하는 과제로, 머신 러닝에서 유명한 예제이다. 목표는 새로운 아이리스 꽃의 종을 예측할 수 있도록 종들 중에서 알려진 아이리스 꽃의 측정치를 학습할 수 있는 머신 러닝 모델을 구축하는 것이다.\n",
    "\n",
    "### 로지스틱 회귀\n",
    "+ Logistic(로지스틱) 함수(시그모이드)를 사용해 입력 값 x를 예측된 출력 값 y로 변환한다.\n",
    "![로지스틱 함수](../image_for_md/Sigmoid.png)\n",
    "[출처](https://icim.nims.re.kr/post/easyMath/64)\n",
    "  \n",
    "    \n",
    "위의 출처에 로지스틱 함수에 대한 기본 개념이 잘 설명되어 있습니다.\n",
    "+ y 값을 가장 가까운 정수로 반올림해 입력 값을 클래스 0 또는 1에 속하는 것으로 __분류__할 수 있다. \n",
    "  + __회귀__이지만 __분류__를 한다!!!\n",
    "+ 본 책에서는 문제를 간단히 하기 위해 데이터 세트에서 제공하는 총 네 가지 기능 중 꽃받침 길이(f1)와 꽃받침 폭(f2)에 중점을 뒀다.\n",
    "+ 결과적으로 x는 f1과 f2의 선형 결합으로 표현할 수 있다. \n",
    "  + x = w1f1 + w2f2\n",
    "+ 다만 선형 회귀와는 달리 로지스틱 회귀는 범주적 가치인 0 or 1에 관심이 있다(로지스틱 함수가 적용되는 범위라고 부른다). \n",
    "  + 입력 값을 0 or 1로 맞춰버리기 때문에 일종의 __Squasing(압축) 함수 σ__로 볼 수 있습니다.\n",
    "  + __σ는 시그모이드 함수__를 말합니다(사진에 첨부된 __s(z)__ 함수).\n",
    "  + __hat(y) = σ(x)__\n",
    "\n",
    "### 실제 적용\n",
    "+ 훈련 자료 불러오기. "
   ]
  },
  {
   "cell_type": "code",
   "execution_count": 12,
   "metadata": {},
   "outputs": [
    {
     "name": "stdout",
     "output_type": "stream",
     "text": [
      "['DESCR', 'data', 'feature_names', 'target', 'target_names']\n",
      "(150, 4)\n",
      "['sepal length (cm)', 'sepal width (cm)', 'petal length (cm)', 'petal width (cm)']\n",
      "[0 1 2]\n",
      "[0 0 0 0 0 0 0 0 0 0 0 0 0 0 0 0 0 0 0 0 0 0 0 0 0 0 0 0 0 0 0 0 0 0 0 0 0\n",
      " 0 0 0 0 0 0 0 0 0 0 0 0 0 1 1 1 1 1 1 1 1 1 1 1 1 1 1 1 1 1 1 1 1 1 1 1 1\n",
      " 1 1 1 1 1 1 1 1 1 1 1 1 1 1 1 1 1 1 1 1 1 1 1 1 1 1 2 2 2 2 2 2 2 2 2 2 2\n",
      " 2 2 2 2 2 2 2 2 2 2 2 2 2 2 2 2 2 2 2 2 2 2 2 2 2 2 2 2 2 2 2 2 2 2 2 2 2\n",
      " 2 2] 150\n",
      "[ True  True  True  True  True  True  True  True  True  True  True  True\n",
      "  True  True  True  True  True  True  True  True  True  True  True  True\n",
      "  True  True  True  True  True  True  True  True  True  True  True  True\n",
      "  True  True  True  True  True  True  True  True  True  True  True  True\n",
      "  True  True  True  True  True  True  True  True  True  True  True  True\n",
      "  True  True  True  True  True  True  True  True  True  True  True  True\n",
      "  True  True  True  True  True  True  True  True  True  True  True  True\n",
      "  True  True  True  True  True  True  True  True  True  True  True  True\n",
      "  True  True  True  True False False False False False False False False\n",
      " False False False False False False False False False False False False\n",
      " False False False False False False False False False False False False\n",
      " False False False False False False False False False False False False\n",
      " False False False False False False]\n",
      "[[ 5.0999999   3.5         1.39999998  0.2       ]\n",
      " [ 4.9000001   3.          1.39999998  0.2       ]\n",
      " [ 4.69999981  3.20000005  1.29999995  0.2       ]\n",
      " [ 4.5999999   3.0999999   1.5         0.2       ]\n",
      " [ 5.          3.5999999   1.39999998  0.2       ]\n",
      " [ 5.4000001   3.9000001   1.70000005  0.40000001]\n",
      " [ 4.5999999   3.4000001   1.39999998  0.30000001]\n",
      " [ 5.          3.4000001   1.5         0.2       ]\n",
      " [ 4.4000001   2.9000001   1.39999998  0.2       ]\n",
      " [ 4.9000001   3.0999999   1.5         0.1       ]\n",
      " [ 5.4000001   3.70000005  1.5         0.2       ]\n",
      " [ 4.80000019  3.4000001   1.60000002  0.2       ]\n",
      " [ 4.80000019  3.          1.39999998  0.1       ]\n",
      " [ 4.30000019  3.          1.10000002  0.1       ]\n",
      " [ 5.80000019  4.          1.20000005  0.2       ]\n",
      " [ 5.69999981  4.4000001   1.5         0.40000001]\n",
      " [ 5.4000001   3.9000001   1.29999995  0.40000001]\n",
      " [ 5.0999999   3.5         1.39999998  0.30000001]\n",
      " [ 5.69999981  3.79999995  1.70000005  0.30000001]\n",
      " [ 5.0999999   3.79999995  1.5         0.30000001]\n",
      " [ 5.4000001   3.4000001   1.70000005  0.2       ]\n",
      " [ 5.0999999   3.70000005  1.5         0.40000001]\n",
      " [ 4.5999999   3.5999999   1.          0.2       ]\n",
      " [ 5.0999999   3.29999995  1.70000005  0.5       ]\n",
      " [ 4.80000019  3.4000001   1.89999998  0.2       ]\n",
      " [ 5.          3.          1.60000002  0.2       ]\n",
      " [ 5.          3.4000001   1.60000002  0.40000001]\n",
      " [ 5.19999981  3.5         1.5         0.2       ]\n",
      " [ 5.19999981  3.4000001   1.39999998  0.2       ]\n",
      " [ 4.69999981  3.20000005  1.60000002  0.2       ]\n",
      " [ 4.80000019  3.0999999   1.60000002  0.2       ]\n",
      " [ 5.4000001   3.4000001   1.5         0.40000001]\n",
      " [ 5.19999981  4.0999999   1.5         0.1       ]\n",
      " [ 5.5         4.19999981  1.39999998  0.2       ]\n",
      " [ 4.9000001   3.0999999   1.5         0.1       ]\n",
      " [ 5.          3.20000005  1.20000005  0.2       ]\n",
      " [ 5.5         3.5         1.29999995  0.2       ]\n",
      " [ 4.9000001   3.0999999   1.5         0.1       ]\n",
      " [ 4.4000001   3.          1.29999995  0.2       ]\n",
      " [ 5.0999999   3.4000001   1.5         0.2       ]\n",
      " [ 5.          3.5         1.29999995  0.30000001]\n",
      " [ 4.5         2.29999995  1.29999995  0.30000001]\n",
      " [ 4.4000001   3.20000005  1.29999995  0.2       ]\n",
      " [ 5.          3.5         1.60000002  0.60000002]\n",
      " [ 5.0999999   3.79999995  1.89999998  0.40000001]\n",
      " [ 4.80000019  3.          1.39999998  0.30000001]\n",
      " [ 5.0999999   3.79999995  1.60000002  0.2       ]\n",
      " [ 4.5999999   3.20000005  1.39999998  0.2       ]\n",
      " [ 5.30000019  3.70000005  1.5         0.2       ]\n",
      " [ 5.          3.29999995  1.39999998  0.2       ]\n",
      " [ 7.          3.20000005  4.69999981  1.39999998]\n",
      " [ 6.4000001   3.20000005  4.5         1.5       ]\n",
      " [ 6.9000001   3.0999999   4.9000001   1.5       ]\n",
      " [ 5.5         2.29999995  4.          1.29999995]\n",
      " [ 6.5         2.79999995  4.5999999   1.5       ]\n",
      " [ 5.69999981  2.79999995  4.5         1.29999995]\n",
      " [ 6.30000019  3.29999995  4.69999981  1.60000002]\n",
      " [ 4.9000001   2.4000001   3.29999995  1.        ]\n",
      " [ 6.5999999   2.9000001   4.5999999   1.29999995]\n",
      " [ 5.19999981  2.70000005  3.9000001   1.39999998]\n",
      " [ 5.          2.          3.5         1.        ]\n",
      " [ 5.9000001   3.          4.19999981  1.5       ]\n",
      " [ 6.          2.20000005  4.          1.        ]\n",
      " [ 6.0999999   2.9000001   4.69999981  1.39999998]\n",
      " [ 5.5999999   2.9000001   3.5999999   1.29999995]\n",
      " [ 6.69999981  3.0999999   4.4000001   1.39999998]\n",
      " [ 5.5999999   3.          4.5         1.5       ]\n",
      " [ 5.80000019  2.70000005  4.0999999   1.        ]\n",
      " [ 6.19999981  2.20000005  4.5         1.5       ]\n",
      " [ 5.5999999   2.5         3.9000001   1.10000002]\n",
      " [ 5.9000001   3.20000005  4.80000019  1.79999995]\n",
      " [ 6.0999999   2.79999995  4.          1.29999995]\n",
      " [ 6.30000019  2.5         4.9000001   1.5       ]\n",
      " [ 6.0999999   2.79999995  4.69999981  1.20000005]\n",
      " [ 6.4000001   2.9000001   4.30000019  1.29999995]\n",
      " [ 6.5999999   3.          4.4000001   1.39999998]\n",
      " [ 6.80000019  2.79999995  4.80000019  1.39999998]\n",
      " [ 6.69999981  3.          5.          1.70000005]\n",
      " [ 6.          2.9000001   4.5         1.5       ]\n",
      " [ 5.69999981  2.5999999   3.5         1.        ]\n",
      " [ 5.5         2.4000001   3.79999995  1.10000002]\n",
      " [ 5.5         2.4000001   3.70000005  1.        ]\n",
      " [ 5.80000019  2.70000005  3.9000001   1.20000005]\n",
      " [ 6.          2.70000005  5.0999999   1.60000002]\n",
      " [ 5.4000001   3.          4.5         1.5       ]\n",
      " [ 6.          3.4000001   4.5         1.60000002]\n",
      " [ 6.69999981  3.0999999   4.69999981  1.5       ]\n",
      " [ 6.30000019  2.29999995  4.4000001   1.29999995]\n",
      " [ 5.5999999   3.          4.0999999   1.29999995]\n",
      " [ 5.5         2.5         4.          1.29999995]\n",
      " [ 5.5         2.5999999   4.4000001   1.20000005]\n",
      " [ 6.0999999   3.          4.5999999   1.39999998]\n",
      " [ 5.80000019  2.5999999   4.          1.20000005]\n",
      " [ 5.          2.29999995  3.29999995  1.        ]\n",
      " [ 5.5999999   2.70000005  4.19999981  1.29999995]\n",
      " [ 5.69999981  3.          4.19999981  1.20000005]\n",
      " [ 5.69999981  2.9000001   4.19999981  1.29999995]\n",
      " [ 6.19999981  2.9000001   4.30000019  1.29999995]\n",
      " [ 5.0999999   2.5         3.          1.10000002]\n",
      " [ 5.69999981  2.79999995  4.0999999   1.29999995]]\n",
      "[ 0.  0.  0.  0.  0.  0.  0.  0.  0.  0.  0.  0.  0.  0.  0.  0.  0.  0.\n",
      "  0.  0.  0.  0.  0.  0.  0.  0.  0.  0.  0.  0.  0.  0.  0.  0.  0.  0.\n",
      "  0.  0.  0.  0.  0.  0.  0.  0.  0.  0.  0.  0.  0.  0.  1.  1.  1.  1.\n",
      "  1.  1.  1.  1.  1.  1.  1.  1.  1.  1.  1.  1.  1.  1.  1.  1.  1.  1.\n",
      "  1.  1.  1.  1.  1.  1.  1.  1.  1.  1.  1.  1.  1.  1.  1.  1.  1.  1.\n",
      "  1.  1.  1.  1.  1.  1.  1.  1.  1.  1.]\n"
     ]
    }
   ],
   "source": [
    "import numpy as np\n",
    "import cv2\n",
    "from sklearn import datasets\n",
    "from sklearn import model_selection\n",
    "from sklearn import metrics\n",
    "from sklearn import linear_model\n",
    "import matplotlib.pyplot as plt\n",
    "%matplotlib inline\n",
    "\n",
    "plt.style.use('ggplot')\n",
    "\n",
    "#데이터 세트 로드\n",
    "iris = datasets.load_iris()\n",
    "\n",
    "#iris는 사전이다.\n",
    "print(dir(iris))\n",
    "\n",
    "#아이리스는 150개의 데이터 포인트가 있으며, 각 데이터 포인트에는 네 개의 특징 값들이 있다.\n",
    "print(iris.data.shape)\n",
    "\n",
    "#특징 값들의 이름 확인\n",
    "print(iris.feature_names)\n",
    "\n",
    "#클레스 레이블이 저장된 target. 0, 1, 2의 세 레이블이 있다.\n",
    "print(np.unique(iris.target))\n",
    "\n",
    "#본 책에서는 간단히 클래스 두 개만 살펴볼 것이고, 클래스 2에 속하지 않는 것들만 확인하기 위해 아래와 같은 작업을 진행한다.\n",
    "print(iris.target, iris.target.size)\n",
    "idx = iris.target != 2\n",
    "print(idx)\n",
    "data = iris.data[idx].astype(np.float32)\n",
    "print(data)\n",
    "target = iris.target[idx].astype(np.float32)\n",
    "print(target)"
   ]
  },
  {
   "cell_type": "markdown",
   "metadata": {},
   "source": [
    "####   \n",
    "+ 데이터 검사하기\n",
    "  + matplotlib를 사용해 클래스 레이블에 해당하는 각 데이터 포인트의 색상에 대한 scatter plot(산포 플롯)을 만든다."
   ]
  },
  {
   "cell_type": "code",
   "execution_count": 22,
   "metadata": {},
   "outputs": [
    {
     "data": {
      "text/plain": [
       "Text(0,0.5,'sepal width (cm)')"
      ]
     },
     "execution_count": 22,
     "metadata": {},
     "output_type": "execute_result"
    },
    {
     "data": {
      "image/png": "[encoded data removed]",
      "text/plain": [
       "<Figure size 432x288 with 1 Axes>"
      ]
     },
     "metadata": {},
     "output_type": "display_data"
    }
   ],
   "source": [
    "plt.scatter(data[:, 0], data[:, 1], c = target, cmap = plt.cm.Paired, s = 100)\n",
    "plt.xlabel(iris.feature_names[0])\n",
    "plt.ylabel(iris.feature_names[1])"
   ]
  },
  {
   "cell_type": "markdown",
   "metadata": {},
   "source": [
    "feature_names[0] 은 꽃받침 길이고, [1]은 꽃받침 너비다.\n",
    "\n",
    "  \n",
    "####    \n",
    "+ 데이터를 훈련 및 테스트 세트로 나누기. 저번 공부에서 한 것 처럼 scikit-learn의 model_selection에서 tarin_test_split 함수를 사용한다.\n",
    "  + 90%의 훈련 데이터와 10%의 테스트 데이터로 나눴다."
   ]
  },
  {
   "cell_type": "code",
   "execution_count": 24,
   "metadata": {},
   "outputs": [
    {
     "data": {
      "text/plain": [
       "((90, 4), (90,), (10, 4), (10,))"
      ]
     },
     "execution_count": 24,
     "metadata": {},
     "output_type": "execute_result"
    }
   ],
   "source": [
    "x_train, x_test, y_train, y_test = model_selection.train_test_split(data, target, test_size = 0.1, random_state = 42)\n",
    "x_train.shape, y_train.shape, x_test.shape, y_test.shape"
   ]
  },
  {
   "cell_type": "markdown",
   "metadata": {},
   "source": [
    "####   \n",
    "+ 분류기 생성하기"
   ]
  },
  {
   "cell_type": "code",
   "execution_count": 35,
   "metadata": {},
   "outputs": [],
   "source": [
    "lr = cv2.ml.LogisticRegression_create()"
   ]
  },
  {
   "cell_type": "markdown",
   "metadata": {},
   "source": [
    "####   \n",
    "+ 훈련 방법 지정하기"
   ]
  },
  {
   "cell_type": "code",
   "execution_count": 39,
   "metadata": {},
   "outputs": [],
   "source": [
    "lr.setTrainMethod(cv2.ml.LogisticRegression_MINI_BATCH)\n",
    "lr.setMiniBatchSize(1)"
   ]
  },
  {
   "cell_type": "markdown",
   "metadata": {},
   "source": [
    "훈련 데이터를 작은 묶음씩 나누어 훈련 시키는 것을 mini-batch라고 한다. \n",
    "  \n",
    "  \n",
    "이 방식을 사용할 땐 batchsize를 정해줘야 한다.\n",
    "\n",
    "  \n",
    "####   \n",
    "+ 알고리즘이 완료되기 전에 실행해야 하는 반복 횟수 지정"
   ]
  },
  {
   "cell_type": "code",
   "execution_count": 40,
   "metadata": {},
   "outputs": [],
   "source": [
    "lr.setIterations(100)"
   ]
  },
  {
   "cell_type": "markdown",
   "metadata": {},
   "source": [
    "####   \n",
    "+ train 메소드를 호출해서 트레인이 성공됐는지 True로 확인한다."
   ]
  },
  {
   "cell_type": "code",
   "execution_count": 41,
   "metadata": {},
   "outputs": [
    {
     "data": {
      "text/plain": [
       "True"
      ]
     },
     "execution_count": 41,
     "metadata": {},
     "output_type": "execute_result"
    }
   ],
   "source": [
    "lr.train(x_train, cv2.ml.ROW_SAMPLE, y_train)"
   ]
  },
  {
   "cell_type": "markdown",
   "metadata": {},
   "source": [
    "####   \n",
    "+ 훈련 단계에서의 목표는 특징 값을 출력 레이블로 가장 잘 변환할 수 있는 '가중치 집합'을 찾는 것이다.\n",
    "+ 단일 데이터 포인트는 네 가지 특징을 가지고 있기 때문에 다음과 같은 식이 나온다.\n",
    "  + x = w0f0 + w1f1 + w2f2 + w3f3 + w4\n",
    "  + w4는 바이어스로 작용하는 추가 가중치다.\n",
    "+ 가중치는 다음과 같이 찾을 수 있다."
   ]
  },
  {
   "cell_type": "code",
   "execution_count": 42,
   "metadata": {},
   "outputs": [
    {
     "data": {
      "text/plain": [
       "array([[-0.04109113, -0.01968078, -0.16216497,  0.28704911,  0.11945518]], dtype=float32)"
      ]
     },
     "execution_count": 42,
     "metadata": {},
     "output_type": "execute_result"
    }
   ],
   "source": [
    "lr.get_learnt_thetas()"
   ]
  },
  {
   "cell_type": "markdown",
   "metadata": {},
   "source": [
    "위의 리스트에 있는 값들이 순서대로 w0 ~ w4 까지의 값이다. \n",
    "\n",
    "####   \n",
    "+ 구해진 가중치 값으로 클래스 0 혹은 1을 분류할 때, 새 데이터 요소를 사용한 σ(x) 계산 값은 0 혹은 1에 가까운 값이 나와야 한다(클래스 0 분류시 0으로, 1 분류시 1로).\n",
    "\n"
   ]
  },
  {
   "cell_type": "code",
   "execution_count": 46,
   "metadata": {},
   "outputs": [
    {
     "data": {
      "text/plain": [
       "1.0"
      ]
     },
     "execution_count": 46,
     "metadata": {},
     "output_type": "execute_result"
    }
   ],
   "source": [
    "ret, y_pred = lr.predict(x_train)\n",
    "metrics.accuracy_score(y_train, y_pred)"
   ]
  },
  {
   "cell_type": "markdown",
   "metadata": {},
   "source": [
    "정확도 점수를 검사해보니 1로 나왔다(1이 가장 정확함을 나타내는 숫자). 하지만 위의 경우에는 train을 넣었기 때문에 훈련 데이터 세트에 대해 제대로 검출했다는 의미밖에 갖지 않는다.    *참고. accuracy_score는 지도학습의 분류에서 정확도를 측정하는 함수였다.*\n",
    "  \n",
    "  \n",
    "따라서 새로운 데이터 포인트를 분류할 수 있는지 확인해야 한다.\n",
    "\n",
    "####   \n",
    "+ 테스트 데이터 세트로 확인"
   ]
  },
  {
   "cell_type": "code",
   "execution_count": 45,
   "metadata": {},
   "outputs": [
    {
     "data": {
      "text/plain": [
       "1.0"
      ]
     },
     "execution_count": 45,
     "metadata": {},
     "output_type": "execute_result"
    }
   ],
   "source": [
    "ret, y_pred = lr.predict(x_test)\n",
    "metrics.accuracy_score(y_test, y_pred)"
   ]
  },
  {
   "cell_type": "markdown",
   "metadata": {},
   "source": [
    "제대로 분류해 낸 것을 확인할 수 있다."
   ]
  }
 ],
 "metadata": {
  "kernelspec": {
   "display_name": "Python 3",
   "language": "python",
   "name": "python3"
  },
  "language_info": {
   "codemirror_mode": {
    "name": "ipython",
    "version": 3
   },
   "file_extension": ".py",
   "mimetype": "text/x-python",
   "name": "python",
   "nbconvert_exporter": "python",
   "pygments_lexer": "ipython3",
   "version": "3.6.4"
  }
 },
 "nbformat": 4,
 "nbformat_minor": 2
}
