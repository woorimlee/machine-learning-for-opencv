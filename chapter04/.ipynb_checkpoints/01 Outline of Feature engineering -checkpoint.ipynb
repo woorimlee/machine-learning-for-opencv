{
 "cells": [
  {
   "cell_type": "markdown",
   "metadata": {},
   "source": [
    "### 1 특징 엔지니어링의 이해\n",
    "+ 모든 학습 알고리즘에는 장점과 단점이 있지만, 성능 차이는 종종 데이터를 준비하거나 표현하는 방식에 달려 있다.\n",
    "+ 특징 엔지니어링은 질문에 대한 해결책을 배우기 위해 샘플 데이터를 잘 나타내는 방법을 찾는 것이다.\n",
    "+ 특징 엔지니어링은 전처리 단계에 속하며, 주어진 __훈련 데이터__에서 __특징 추출__과정을 거쳐(여기까지 전처리) 머신 러닝 알고리즘 __학습__ 단계 순서로 진행된다.\n",
    "  + __특징 선택__ : 데이터에서 중요한 attribute(특징)를 식별하는 프로세스다. 이미지에서 사용 가능한 특징은 edge, corner, ridge의 위치가 될 수 있다. 이 장에서는 SIFT(Scale-Invariant Feature Transform)와 SURF(Speeded Up Robust Features)같은 OpenCV가 제공하는 고급 feature descriptor를 살펴본다.\n",
    "  + __특징 추출__ : feature space로 원시 데이터를 변환하는 프로세스. 이미지의 코너(선택된 특징)를 추출할 수 있는 Harris(해리스) 연산자가 그 예이다.\n",
    "  \n",
    "### 2 전처리 데이터\n",
    "+ 좋은 결과를 얻기 위한 첫 번째 단계는 __data preprocessing__이다. \n",
    "  1. __Data formatting(형식)__ : 데이터가 작업하기에 적당한 형식이어야 한다. \n",
    "  2. __Data cleaning(정제)__ : 데이터에 유효하지 않거나 누락된 항목이 포함될 수 있으니 정제하거나 제거해야 한다.\n",
    "  3. __Data Sampling(샘플링)__ : 데이터가 너무 방대하면 현명한 방식으로 샘플링 한다.\n",
    "+ 데이터가 전처리 단계를 거치면 __머신 러닝 알고리즘에 맞게 변형__되어야 한다.\n",
    "  1. __Scaling(확장)__ : 종종 데이터가 평균 범위 및 단위 분산을 가지고 일반적인 범위 내에 있어야 한다. 확장은 모든 기능을 일반적인 값 범위로 변경해서 가져오는 프로세스다.\n",
    "  2. __Decomposition(분해)__ : 데이터 세트에는 처리할 수 있는 것보다 더 많은 기능들이 포함되는 경우가 많다. 분해는 좀 더 적은 수의 유익한 데이터 컴포넌트로 데이터를 압축하는 과정이다.\n",
    "  3. __Aggregation(집계)__ : 여러 기능을 하나의 의미 있는 그룹으로 그룹화할 수 있다. \n",
    "\n",
    "  \n",
    "위 프로세스 중 일부 내용에 대해 살펴보도록 하면,\n",
    "  \n",
    "    \n",
    "  1) 특징 표준화 : __standardization__이란 __평균 및 단위 분산이 0__이 되도록 데이터를 확장하는 프로세스를 의미한다.\n",
    "    + 모든 데이터 포인트에서 모든 데이터의 평균값(μ)을 빼고, 이를 데이터 분산(σ)으로 나눔으로써 데이터를 수동으로 표준화 할 수 있다. \n",
    "    \n",
    "    + 즉, 모든 특징 x에 대해 (x - μ) / σ로 계산할 수 있다."
   ]
  },
  {
   "cell_type": "code",
   "execution_count": null,
   "metadata": {},
   "outputs": [],
   "source": []
  }
 ],
 "metadata": {
  "kernelspec": {
   "display_name": "Python 3",
   "language": "python",
   "name": "python3"
  },
  "language_info": {
   "codemirror_mode": {
    "name": "ipython",
    "version": 3
   },
   "file_extension": ".py",
   "mimetype": "text/x-python",
   "name": "python",
   "nbconvert_exporter": "python",
   "pygments_lexer": "ipython3",
   "version": "3.6.4"
  }
 },
 "nbformat": 4,
 "nbformat_minor": 2
}
