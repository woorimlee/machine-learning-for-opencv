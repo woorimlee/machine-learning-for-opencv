{
 "cells": [
  {
   "cell_type": "markdown",
   "metadata": {},
   "source": [
    "### 4. 범주형 변수 표현하기\n",
    "+ 머신 러닝 시스템을 구축하는 동안 사용할 수 있는 가장 일반적인 데이터 유형 중 하나는 범주적 데이터다.\n",
    "  + 이 데이터의 문제점은 연속적으로 변경되지 않으므로 숫자로 표현하기 어렵다는 것이다.\n",
    "+ 예를 들어 머신 러닝 및 인공지능의 조상 목록으로 구성된 데이터 세트를 인코딩하려 한다고 가정해보자."
   ]
  },
  {
   "cell_type": "code",
   "execution_count": 3,
   "metadata": {},
   "outputs": [],
   "source": [
    "data = [\n",
    "    {'name': 'Alan Turing', 'born': 1912, 'died': 1954},\n",
    "    {'name': 'Herbert A. Simon', 'born': 1916, 'died': 2001},\n",
    "    {'name': 'Jacek Karpinski', 'born': 1927, 'died': 2010},\n",
    "    {'name': 'J.C.R. Licklider', 'born': 1915, 'died': 1990},\n",
    "    {'name': 'Marvin Minsky', 'born': 1927, 'died': 2016},\n",
    "]"
   ]
  },
  {
   "cell_type": "markdown",
   "metadata": {},
   "source": [
    "+ 'born' 및 'died' 특징은 숫자 형식으로 돼 있지만, 'name'은 인코딩하기가 까다롭다. 그래서 다음과 같은 방식을 쓰기도 한다."
   ]
  },
  {
   "cell_type": "code",
   "execution_count": 4,
   "metadata": {},
   "outputs": [
    {
     "data": {
      "text/plain": [
       "{'Alan Turing': 1,\n",
       " 'Herbert A. Simon': 2,\n",
       " 'J.C.R. Licklider': 4,\n",
       " 'Jacek Karpinsky': 3,\n",
       " 'Marvin Minsky': 5}"
      ]
     },
     "execution_count": 4,
     "metadata": {},
     "output_type": "execute_result"
    }
   ],
   "source": [
    "{'Alan Turing': 1,\n",
    " 'Herbert A. Simon': 2,\n",
    " 'Jacek Karpinsky': 3,\n",
    " 'J.C.R. Licklider': 4,\n",
    " 'Marvin Minsky': 5}"
   ]
  },
  {
   "cell_type": "markdown",
   "metadata": {},
   "source": [
    "####   \n",
    "\n",
    "  \n",
    "+ 이 방식은 머신 러닝 관점에서 보면 별 의미는 없다. 이러한 category에 ordinal(서수) 값을 할당함으로써 대부분의 머신 러닝 알고리즘에서는 'Alan Turing' < 'Herbert A. Simon' < 'Jacek Karpsinky' ... 라고 생각하기 때문이다.\n",
    "  + 이는 1 < 2 < 3의 당연한 결과고, 우리가 의도한 결과는 아니다.\n",
    "+ 우리는 대신 각 데이터가 다른 데이터에 속하는 범주가 아니라는 것을 표현하고 싶은 것이고, 이는 __바이너리 인코딩이 필요__하다는 것을 의미한다.\n",
    "+ 머신 러닝 용어로 이것은 __one-hot 인코딩__이라 알려져있다."
   ]
  },
  {
   "cell_type": "code",
   "execution_count": 9,
   "metadata": {},
   "outputs": [
    {
     "data": {
      "text/plain": [
       "array([[1912, 1954,    1,    0,    0,    0,    0],\n",
       "       [1916, 2001,    0,    1,    0,    0,    0],\n",
       "       [1927, 2010,    0,    0,    0,    1,    0],\n",
       "       [1915, 1990,    0,    0,    1,    0,    0],\n",
       "       [1927, 2016,    0,    0,    0,    0,    1]], dtype=int32)"
      ]
     },
     "execution_count": 9,
     "metadata": {},
     "output_type": "execute_result"
    }
   ],
   "source": [
    "# scikit-learn에서 feature_extraction 모듈의 DictVectorizer 클래스에서 \n",
    "# one-hot encoding을 제공한다.\n",
    "# 단순히 데이터를 포함하는 dictionary를 fit_transform 함수에 제공하는 방식으로 동작.\n",
    "# 이 함수는 인코딩할 특징을 자동으로 결정할 수 있다.\n",
    "\n",
    "from sklearn.feature_extraction import DictVectorizer\n",
    "vec = DictVectorizer(sparse = False, dtype = int)\n",
    "vec.fit_transform(data)"
   ]
  },
  {
   "cell_type": "markdown",
   "metadata": {},
   "source": [
    "+ get_feature_names를 호출해 나열된 특징의 순서를 확인할 수 있다."
   ]
  },
  {
   "cell_type": "code",
   "execution_count": 10,
   "metadata": {},
   "outputs": [
    {
     "data": {
      "text/plain": [
       "['born',\n",
       " 'died',\n",
       " 'name=Alan Turing',\n",
       " 'name=Herbert A. Simon',\n",
       " 'name=J.C.R. Licklider',\n",
       " 'name=Jacek Karpinski',\n",
       " 'name=Marvin Minsky']"
      ]
     },
     "execution_count": 10,
     "metadata": {},
     "output_type": "execute_result"
    }
   ],
   "source": [
    "vec.get_feature_names()"
   ]
  },
  {
   "cell_type": "markdown",
   "metadata": {},
   "source": [
    "+ Alan Turing 데이터 행렬의 첫 번째 행은 _'born'=1912, 'died'=1954, 'Alan Turing'=1, 'Herbert A. Simon'=0, 'J.C.R Licklider'=0, 'Jacek Karpinsik'=0, and 'Marvin Minsky'=0_으로 인코딩 된다.\n",
    "####   \n",
    "  \n",
    "  \n",
    "+ 이 방식에는 특징 범주에 가능한 성 및 이름 등에 많은 값이 있는 경우, one-hot encoding이 매우 큰 데이터 행렬을 만들 수 있다는 단점이 있다.\n",
    "+ 그러나 row-by-row(행별)로 데이터 행렬을 조사하면 모든 행에 정확히 1이 있고 다른 모든 항목이 0이라는 것은 분명하다. 즉, 행렬은 희소 행렬(sparse matrix. 대부분이 0 값을 갖는 행렬)이 된다.\n",
    "+ DictVectorizer() 클래스 생성시 sparse 매개변수에 True를 지정해 희소 행렬을 사용할 수 있다."
   ]
  },
  {
   "cell_type": "code",
   "execution_count": 12,
   "metadata": {},
   "outputs": [
    {
     "data": {
      "text/plain": [
       "<5x7 sparse matrix of type '<class 'numpy.int32'>'\n",
       "\twith 15 stored elements in Compressed Sparse Row format>"
      ]
     },
     "execution_count": 12,
     "metadata": {},
     "output_type": "execute_result"
    }
   ],
   "source": [
    "vec = DictVectorizer(sparse = True, dtype = int)\n",
    "vec.fit_transform(data)"
   ]
  }
 ],
 "metadata": {
  "kernelspec": {
   "display_name": "Python 3",
   "language": "python",
   "name": "python3"
  },
  "language_info": {
   "codemirror_mode": {
    "name": "ipython",
    "version": 3
   },
   "file_extension": ".py",
   "mimetype": "text/x-python",
   "name": "python",
   "nbconvert_exporter": "python",
   "pygments_lexer": "ipython3",
   "version": "3.6.4"
  }
 },
 "nbformat": 4,
 "nbformat_minor": 2
}
