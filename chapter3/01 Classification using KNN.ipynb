{
 "cells": [
  {
   "cell_type": "code",
   "execution_count": 1,
   "metadata": {
    "scrolled": true
   },
   "outputs": [
    {
     "name": "stdout",
     "output_type": "stream",
     "text": [
      "[51 92]\n",
      "0\n",
      "[[ 71.  60.]\n",
      " [ 20.  82.]\n",
      " [ 86.  74.]\n",
      " [ 74.  87.]\n",
      " [ 99.  23.]\n",
      " [  2.  21.]\n",
      " [ 52.   1.]\n",
      " [ 87.  29.]\n",
      " [ 37.   1.]\n",
      " [ 63.  59.]\n",
      " [ 20.  32.]]\n",
      "[[1]\n",
      " [1]\n",
      " [1]\n",
      " [0]\n",
      " [1]\n",
      " [0]\n",
      " [0]\n",
      " [0]\n",
      " [0]\n",
      " [0]\n",
      " [1]]\n",
      "[1 1 1 0 1 0 0 0 0 0 1]\n",
      "[False False False  True False  True  True  True  True  True False]\n",
      "[[ 74.  87.]\n",
      " [  2.  21.]\n",
      " [ 52.   1.]\n",
      " [ 87.  29.]\n",
      " [ 37.   1.]\n",
      " [ 63.  59.]]\n",
      "트레인 성공시 True 반환 : True\n",
      "[[ 91.  59.]]\n",
      "Neighbor's label :  [[ 1.  1.  0.  0.  0.  1.  0.]]\n",
      "predicted label :  [[ 0.]]\n",
      "distance to neighbor :  [[  250.   401.   784.   916.  1073.  1360.  4885.]]\n",
      "what is this :  0.0\n"
     ]
    },
    {
     "data": {
      "image/png": "[encoded data removed]",
      "text/plain": [
       "<Figure size 432x288 with 1 Axes>"
      ]
     },
     "metadata": {},
     "output_type": "display_data"
    },
    {
     "data": {
      "image/png": "[encoded data removed]",
      "text/plain": [
       "<Figure size 720x432 with 1 Axes>"
      ]
     },
     "metadata": {},
     "output_type": "display_data"
    }
   ],
   "source": [
    "#분류 모델을 사용해 클래스 레이블 예측하는 방법 중 하나\n",
    "#kNN K Nearest Neighbor\n",
    "#KNN 알고리즘에 대한 OpenCV, 데이터 변경(munging)을 위한 NumPy, 플로팅을 위한 Matplotlib, 이미지 표시를 위한 매직 명령\n",
    "import numpy as np\n",
    "import cv2\n",
    "import matplotlib.pyplot as plt\n",
    "%matplotlib inline\n",
    "plt.style.use('ggplot')\n",
    "\n",
    "#난수 생성\n",
    "np.random.seed(42)\n",
    "\n",
    "#x와 y가 0<100 사이라면, 다음과 같이 좌표를 랜덤으로 설정 할 수 있지.\n",
    "single_data_point = np.random.randint(0,100,2)\n",
    "print(single_data_point)\n",
    "\n",
    "#마찬가지로 데이터 요소의 레이블을 아래와 같이 설정 할 수 있지.\n",
    "single_label = np.random.randint(0,2)\n",
    "print(single_label)\n",
    "#현재 x = 51, y = 92의 데이터 포인트는 클래스 0을 가짐. -> 파란색 사각형\n",
    "\n",
    "#생성할 데이터 포인트의 수와 데이터 포인트마다 존재하는 정보(특징)의 수를 입력으로 취하는 함수를 만들어본다.\n",
    "def generate_data(num_samples, num_features=2) :\n",
    "    \"\"\"randomly generates a num of data points\"\"\"\n",
    "    data_size = (num_samples, num_features)\n",
    "    data = np.random.randint(0,100, size = data_size)\n",
    "    #size에 (m,n)을 입력할 시 m*n으로 생성\n",
    "    labels_size = (num_samples, 1)\n",
    "    labels = np.random.randint(0,2,size = labels_size)\n",
    "    \n",
    "    #OpenCV는 데이터 유형에 관해서 까다로우니 항상 np.float32로 변환해야 한다.\n",
    "    return data.astype(np.float32), labels\n",
    "\n",
    "train_data, labels = generate_data(11)\n",
    "print(train_data)\n",
    "print(labels)\n",
    "\n",
    "#첫 번째 데이터 포인트와 레이블을 지도 위에 그려보자\n",
    "plt.plot(train_data[0,0], train_data[0,1], 'sb') #squre / blue\n",
    "plt.xlabel('x coordinate')\n",
    "plt.ylabel('y coordinate')\n",
    "\n",
    "#전체 훈련 세트를 시각화 하기 위한 함수\n",
    "def plot_data(all_blue, all_red):\n",
    "    plt.figure(figsize = (10,6))\n",
    "    plt.scatter(all_blue[:,0], all_blue[:,1], c= 'b', marker = 's', s = 100)\n",
    "    plt.scatter(all_red[:,0],all_red[:,1], c = 'r', marker = '^', s = 100)\n",
    "    plt.xlabel('x coordinate')\n",
    "    plt.ylabel('y coordinate')\n",
    "    \n",
    "#np 다차원 배열을 1차원으로 만들어주는 함수 ravel\n",
    "print(labels.ravel())\n",
    "print(labels.ravel() == 0)\n",
    "\n",
    "blue = train_data[labels.ravel() == 0]\n",
    "print(train_data[labels.ravel() == 0])\n",
    "red = train_data[labels.ravel() == 1]\n",
    "\n",
    "plot_data(blue,red)\n",
    "\n",
    "knn = cv2.ml.KNearest_create()\n",
    "#cv2.ml.ROW_SAMPLE = parameter in knn.train function, passing this parameter considers the length of array as 1 for entire row.\n",
    "print(\"트레인 성공시 True 반환 :\",knn.train(train_data, cv2.ml.ROW_SAMPLE, labels))\n",
    "\n",
    "#generate_data 함수로 새로운 데이터 요소를 생성\n",
    "newcomer, _ = generate_data(1)\n",
    "#함수 사용시 임의의 레이블을 반환받을 수 있지만 우린 그 값에 관심이 없음\n",
    "#_사용시 출력 값을 무시하도록 파이썬에 지시할 수 있다.\n",
    "print(newcomer)\n",
    "\n",
    "plt.plot(newcomer[0,0], newcomer[0,1], 'go', markersize=14);\n",
    "\n",
    "ret, results, neighbor, dist = knn.findNearest(newcomer, 7) # 7 = k\n",
    "print(\"Neighbor's label : \", neighbor)\n",
    "print(\"predicted label : \", results)\n",
    "print(\"distance to neighbor : \", dist)\n",
    "print(\"what is this : \", ret)"
   ]
  }
 ],
 "metadata": {
  "kernelspec": {
   "display_name": "Python 3",
   "language": "python",
   "name": "python3"
  },
  "language_info": {
   "codemirror_mode": {
    "name": "ipython",
    "version": 3
   },
   "file_extension": ".py",
   "mimetype": "text/x-python",
   "name": "python",
   "nbconvert_exporter": "python",
   "pygments_lexer": "ipython3",
   "version": "3.6.4"
  }
 },
 "nbformat": 4,
 "nbformat_minor": 2
}
